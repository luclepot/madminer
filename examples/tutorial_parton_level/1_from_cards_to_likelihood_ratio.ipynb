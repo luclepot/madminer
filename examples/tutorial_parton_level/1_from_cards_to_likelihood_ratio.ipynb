{
 "cells": [
  {
   "cell_type": "markdown",
   "metadata": {},
   "source": [
    "# MadMiner tutorial 1: From cards to likelihood ratios (parton level)\n",
    "\n",
    "Johann Brehmer, Felix Kling, Kyle Cranmer 2018"
   ]
  },
  {
   "cell_type": "markdown",
   "metadata": {},
   "source": [
    "In this tutorial we'll introduce the basic MadMiner workflow, using parton-level samples with simple smearing functions. We'll show you how to use MadMiner to generate events, extract training data, and train neural networks to estimate likelihood ratios.\n",
    "\n",
    "This tutorial does not try to explain the inference methods. To understand what MadMiner is doing, please have a look at some papers first. In\n",
    "[\"Constraining Effective Field Theories With Machine Learning\"](https://arxiv.org/abs/1805.00013)\n",
    "we explain the basic idea of most of the methods presented here, while [\"A Guide to Constraining Effective Field Theories With Machine Learning\"](https://arxiv.org/abs/1805.00020) is an extensive 65-page handbook going through the details."
   ]
  },
  {
   "cell_type": "markdown",
   "metadata": {},
   "source": [
    "## Preparations"
   ]
  },
  {
   "cell_type": "markdown",
   "metadata": {},
   "source": [
    "Before you execute this notebook, make sure you have running installations of MadGraph, Pythia, and Delphes."
   ]
  },
  {
   "cell_type": "code",
   "execution_count": 1,
   "metadata": {},
   "outputs": [],
   "source": [
    "from __future__ import absolute_import, division, print_function, unicode_literals\n",
    "\n",
    "import logging\n",
    "import numpy as np\n",
    "import matplotlib\n",
    "from matplotlib import pyplot as plt\n",
    "%matplotlib inline\n",
    "\n",
    "from madminer.core import MadMiner\n",
    "from madminer.lhe import LHEReader\n",
    "from madminer.sampling import combine_and_shuffle\n",
    "from madminer.sampling import SampleAugmenter\n",
    "from madminer import sampling\n",
    "from madminer.ml import ParameterizedRatioEstimator\n",
    "from madminer.plotting import plot_2d_morphing_basis, plot_distributions\n",
    "from madminer.limits import AsymptoticLimits\n"
   ]
  },
  {
   "cell_type": "markdown",
   "metadata": {},
   "source": [
    "Please enter here the path to your MG5 root directory."
   ]
  },
  {
   "cell_type": "code",
   "execution_count": 2,
   "metadata": {},
   "outputs": [],
   "source": [
    "mg_dir = '/Users/johannbrehmer/work/projects/madminer/MG5_aMC_v2_6_2'"
   ]
  },
  {
   "cell_type": "markdown",
   "metadata": {},
   "source": [
    "MadMiner uses the Python `logging` module to provide additional information and debugging output. You can choose how much of this output you want to see by switching the level in the following lines to `logging.DEBUG` or `logging.WARNING`."
   ]
  },
  {
   "cell_type": "code",
   "execution_count": 3,
   "metadata": {},
   "outputs": [],
   "source": [
    "# MadMiner output\n",
    "logging.basicConfig(\n",
    "    format='%(asctime)-5.5s %(name)-20.20s %(levelname)-7.7s %(message)s',\n",
    "    datefmt='%H:%M',\n",
    "    level=logging.INFO\n",
    ")\n",
    "\n",
    "# Output of all other modules (e.g. matplotlib)\n",
    "for key in logging.Logger.manager.loggerDict:\n",
    "    if \"madminer\" not in key:\n",
    "        logging.getLogger(key).setLevel(logging.WARNING)"
   ]
  },
  {
   "cell_type": "markdown",
   "metadata": {},
   "source": [
    "## Input data"
   ]
  },
  {
   "cell_type": "markdown",
   "metadata": {},
   "source": [
    "As an example process, we'll simulate VBF Higgs production with a decay into two photons. We'll try to measure two EFT coefficients that affect this process.\n",
    "\n",
    "Have a look at the `cards` folder. You'll find text files (\"cards\") that specify the process simulation in typical MadGraph convention."
   ]
  },
  {
   "cell_type": "markdown",
   "metadata": {},
   "source": [
    "## 1. Define parameter space"
   ]
  },
  {
   "cell_type": "markdown",
   "metadata": {},
   "source": [
    "After creating a `MadMiner` instance, the first important step is the definition of the parameter space. Each model parameter is characterized by a name as well as the LHA block and ID.\n",
    "\n",
    "If morphing is used, one also has to specify the maximal power with which the parameter contributes to the squared matrix element. For instance, a parameter that contributes only to one vertex, will typically have `morphing_max_power=2`, while a parameter that contributes to two vertices usually has `morphing_max_power=4`. Exceptions arise for instance when the interference effects between the SM and dimension-six operators are modelled, but the square of the dimension-six amplitude (subleading in 1/Lambda) is not taken into account, in which case `morphing_max_power=1`. The `parameter_range` argument defines the range of parameter values that are used for the automatic optimization of the morphing basis.\n",
    "\n",
    "Finally, the parameter values theta used internally by MadMiner and the parameter values written to the param_card (or reweight_card) given to MadGraph do not have to be exactly the same. With the option `parm_card_transform`, the user can supply a one-parameter function that maps a parameter value theta to the value given to MadGraph. This string is a python expression, in which `theta` is parsed as the parameter value. For instance, if the internal parameters are in the range (0, 1), but should be linearly scaled to (0, 100) in the param_card, one would have to use `param_card_transform=\"100*theta\"`."
   ]
  },
  {
   "cell_type": "code",
   "execution_count": 4,
   "metadata": {},
   "outputs": [
    {
     "name": "stderr",
     "output_type": "stream",
     "text": [
      "14:57 madminer.core        INFO    Added parameter CWL2 (LHA: dim6 2, maximal power in squared ME: (2,), range: (-10.0, 10.0))\n",
      "14:57 madminer.core        INFO    Added parameter CPWL2 (LHA: dim6 5, maximal power in squared ME: (2,), range: (-10.0, 1.0))\n"
     ]
    }
   ],
   "source": [
    "miner = MadMiner()\n",
    "\n",
    "miner.add_parameter(\n",
    "    lha_block='dim6',\n",
    "    lha_id=2,\n",
    "    parameter_name='CWL2',\n",
    "    morphing_max_power=2,\n",
    "    param_card_transform=\"16.52*theta\",\n",
    "    parameter_range=(-10.,10.)\n",
    ")\n",
    "miner.add_parameter(\n",
    "    lha_block='dim6',\n",
    "    lha_id=5,\n",
    "    parameter_name='CPWL2',\n",
    "    morphing_max_power=2,\n",
    "    param_card_transform=\"16.52*theta\",\n",
    "    parameter_range=(-10.,1.0)\n",
    ")"
   ]
  },
  {
   "cell_type": "markdown",
   "metadata": {},
   "source": [
    "## 2. Define benchmark points (evaluation points for |M|^2)"
   ]
  },
  {
   "cell_type": "markdown",
   "metadata": {},
   "source": [
    "The next step is the definition of all the points at which the weights (squared matrix elements) should be evaluated by MadGraph. We call these points \"benchmarks\"."
   ]
  },
  {
   "cell_type": "markdown",
   "metadata": {},
   "source": [
    "### Set benchmarks by hand"
   ]
  },
  {
   "cell_type": "markdown",
   "metadata": {},
   "source": [
    "One can define benchmarks by hand:"
   ]
  },
  {
   "cell_type": "code",
   "execution_count": 5,
   "metadata": {},
   "outputs": [
    {
     "name": "stderr",
     "output_type": "stream",
     "text": [
      "14:57 madminer.core        INFO    Added benchmark sm: CWL2 = 0.00e+00, CPWL2 = 0.00e+00)\n",
      "14:57 madminer.core        INFO    Added benchmark w: CWL2 = 10.00, CPWL2 = 0.00e+00)\n"
     ]
    }
   ],
   "source": [
    "miner.add_benchmark(\n",
    "    {'CWL2':0., 'CPWL2':0.},\n",
    "    'sm'\n",
    ")\n",
    "miner.add_benchmark(\n",
    "    {'CWL2':10., 'CPWL2':0.},\n",
    "    'w'\n",
    ")"
   ]
  },
  {
   "cell_type": "markdown",
   "metadata": {},
   "source": [
    "### Morphing setup"
   ]
  },
  {
   "cell_type": "markdown",
   "metadata": {},
   "source": [
    "If morphing is used, the function `set_morphing` has to be called. With the option `include_existing_benchmarks=True`, MadMiner will keep all the benchmark points defined beforehand and run a simple optimization algorithm to fix the remaining ones for the basis (which may be none). Otherwise, MadMiner will optimize the full basis and forget about all previously defined benchmark points.\n",
    "\n",
    "The other important keyword is `max_overall_power`. This sets the maximal combined power with which all parameters together contribute to the squared matrix element (cross section). This constraint is in addition to the `morphing_max_power` keyword of `add_parameter()` (see above). For instance, if there are two parameters of interest `a` and `b`, and it is known that there are contributions proportional to `1` (constant), `a`, `a^2`, `b`, `b^2`, and `ab`, then `max_overall_power=2`. If there are also contributions proportional to `a^2 b`, `a b^2`, and `a^2 b^2`, then `max_overall_power=4`."
   ]
  },
  {
   "cell_type": "code",
   "execution_count": 6,
   "metadata": {
    "scrolled": true
   },
   "outputs": [
    {
     "name": "stderr",
     "output_type": "stream",
     "text": [
      "14:57 madminer.core        INFO    Optimizing basis for morphing\n",
      "14:57 madminer.utils.morph DEBUG   Region 0: max overall power 2, max individual powers [2, 2]\n",
      "14:57 madminer.utils.morph DEBUG     Adding component [0 0]\n",
      "14:57 madminer.utils.morph DEBUG     Adding component [0 1]\n",
      "14:57 madminer.utils.morph DEBUG     Adding component [0 2]\n",
      "14:57 madminer.utils.morph DEBUG     Adding component [1 0]\n",
      "14:57 madminer.utils.morph DEBUG     Adding component [1 1]\n",
      "14:57 madminer.utils.morph DEBUG     Adding component [2 0]\n",
      "14:57 madminer.core        DEBUG   Added benchmark sm: CWL2 = 0.00e+00, CPWL2 = 0.00e+00)\n",
      "14:57 madminer.core        DEBUG   Added benchmark w: CWL2 = 10.00, CPWL2 = 0.00e+00)\n",
      "14:57 madminer.core        DEBUG   Added benchmark morphing_basis_vector_2: CWL2 = -9.65e+00, CPWL2 = -4.70e-01)\n",
      "14:57 madminer.core        DEBUG   Added benchmark morphing_basis_vector_3: CWL2 = -4.64e+00, CPWL2 = -3.84e+00)\n",
      "14:57 madminer.core        DEBUG   Added benchmark morphing_basis_vector_4: CWL2 = 6.21, CPWL2 = -7.48e+00)\n",
      "14:57 madminer.core        DEBUG   Added benchmark morphing_basis_vector_5: CWL2 = -7.38e+00, CPWL2 = -9.26e+00)\n",
      "14:57 madminer.core        INFO    Set up morphing with 2 parameters, 6 morphing components, 2 predefined basis points, and 4 new basis points\n"
     ]
    }
   ],
   "source": [
    "miner.set_morphing(\n",
    "    include_existing_benchmarks=True,\n",
    "    max_overall_power=2\n",
    ")"
   ]
  },
  {
   "cell_type": "markdown",
   "metadata": {},
   "source": [
    "Let's have a look at the resulting morphing basis and the \"morphing error\", i.e. the sum of squared morphing weights as a function of the parameter space. The black dots mark the benchmarks at which the squared matrix element will be evaluated when MadGraph is run. In between them, the morphing will interpolate. Since the morphing knows about the functional form of the amplitudes, there is only a small numerical uncertainty in this interpolation, we expect that the color in this plot is indicative of this uncertainty."
   ]
  },
  {
   "cell_type": "code",
   "execution_count": 7,
   "metadata": {},
   "outputs": [
    {
     "data": {
      "image/png": "[encoded data removed]",
      "text/plain": [
       "<Figure size 468x360 with 2 Axes>"
      ]
     },
     "metadata": {
      "needs_background": "light"
     },
     "output_type": "display_data"
    }
   ],
   "source": [
    "fig = plot_2d_morphing_basis(\n",
    "    miner.morpher,\n",
    "    xlabel=r'$c_{W} v^2 / \\Lambda^2$',\n",
    "    ylabel=r'$c_{\\tilde{W}} v^2 / \\Lambda^2$',\n",
    "    xrange=(-10.,10.),\n",
    "    yrange=(-10.,10.)\n",
    ")"
   ]
  },
  {
   "cell_type": "markdown",
   "metadata": {},
   "source": [
    "The parameter space, benchmark points, and morphing setup are saved in a HDF5 file:"
   ]
  },
  {
   "cell_type": "code",
   "execution_count": 8,
   "metadata": {},
   "outputs": [
    {
     "name": "stderr",
     "output_type": "stream",
     "text": [
      "14:57 madminer.core        INFO    Saving setup (including morphing) to data/madminer_example.h5\n"
     ]
    }
   ],
   "source": [
    "miner.save('data/madminer_example.h5')"
   ]
  },
  {
   "cell_type": "markdown",
   "metadata": {},
   "source": [
    "They can now be loaded again with `miner.load(filename)`."
   ]
  },
  {
   "cell_type": "markdown",
   "metadata": {},
   "source": [
    "## 3. Save settings and run MadGraph"
   ]
  },
  {
   "cell_type": "markdown",
   "metadata": {},
   "source": [
    "In a next step, MadMiner starts MadGraph to generate events and calculate the weights. You have to provide paths to the process card, run card, param card (the entries corresponding to the parameters of interest will be automatically adapted), and an empty reweight card. Log files in the `log_directory` folder collect the MadGraph output and are important for debugging.\n",
    "\n",
    "The `sample_benchmark` option can be used to specify which benchmark should be used for sampling. If it is not used, MadMiner will automatically use the benchmark that was added first.\n",
    "\n",
    "Finally, if your default Python interpreter is 3.x, you will want to use `python2_override=True` to force MadGraph to be started with Python 2.x."
   ]
  },
  {
   "cell_type": "code",
   "execution_count": 9,
   "metadata": {},
   "outputs": [
    {
     "name": "stderr",
     "output_type": "stream",
     "text": [
      "14:57 madminer.utils.inter INFO    Generating MadGraph process folder from cards/proc_card_signal.dat at ./mg_processes/signal\n",
      "14:57 madminer.core        INFO    Run 0\n",
      "14:57 madminer.core        INFO      Sampling from benchmark: sm\n",
      "14:57 madminer.core        INFO      Original run card:       cards/run_card_signal.dat\n",
      "14:57 madminer.core        INFO      Original Pythia8 card:   None\n",
      "14:57 madminer.core        INFO      Copied run card:         /madminer/cards/run_card_0.dat\n",
      "14:57 madminer.core        INFO      Copied Pythia8 card:     None\n",
      "14:57 madminer.core        INFO      Param card:              /madminer/cards/param_card_0.dat\n",
      "14:57 madminer.core        INFO      Reweight card:           /madminer/cards/reweight_card_0.dat\n",
      "14:57 madminer.core        INFO      Log file:                run_0.log\n",
      "14:57 madminer.core        INFO    Creating param and reweight cards in ./mg_processes/signal//madminer/cards/param_card_0.dat, ./mg_processes/signal//madminer/cards/reweight_card_0.dat\n",
      "14:57 madminer.utils.inter INFO    Starting MadGraph and Pythia in ./mg_processes/signal\n",
      "15:11 madminer.core        INFO    Finished running MadGraph! Please check that events were succesfully generated in the following folders:\n",
      "\n",
      "./mg_processes/signal/Events/run_01\n",
      "\n",
      "\n"
     ]
    }
   ],
   "source": [
    "miner.run(\n",
    "    sample_benchmark='sm',\n",
    "    mg_directory=mg_dir,\n",
    "    mg_process_directory='./mg_processes/signal',\n",
    "    proc_card_file='cards/proc_card_signal.dat',\n",
    "    param_card_template_file='cards/param_card_template.dat',\n",
    "    run_card_file='cards/run_card_signal.dat',\n",
    "    log_directory='logs/signal',\n",
    "    python2_override=True,\n",
    ")"
   ]
  },
  {
   "cell_type": "markdown",
   "metadata": {},
   "source": [
    "This will take a moment -- time for a coffee break!\n",
    "\n",
    "After running any event generation through MadMiner, you should check whether the run succeeded: are the usual output files there (LHE and HepMC), do the log files show any error messages? MadMiner does not perform any explicit checks, and if something went wrong in the event generation, it will only notice later when trying to load the event files."
   ]
  },
  {
   "cell_type": "markdown",
   "metadata": {},
   "source": [
    "It is possible to start multiple processes based on the same `MadMiner` instance. This can be used to combine samples sampled according to different benchmarks, and to add reducible backgrounds. \n",
    "\n",
    "For the latter, a useful option is the `is_background` switch, which should be used for processes that do *not* depend on the parameters theta. `is_background=True` will disable the reweighting and re-use the same weights for all cross sections.\n",
    "\n",
    "To reduce the runtime of the notebook, the background part is commented out here. Feel free to activate it and let it run during a lunch break."
   ]
  },
  {
   "cell_type": "code",
   "execution_count": 10,
   "metadata": {},
   "outputs": [
    {
     "data": {
      "text/plain": [
       "\"\\nminer.run(\\n    is_background=True,\\n    sample_benchmark='sm',\\n    mg_directory=mg_dir,\\n    mg_process_directory='./mg_processes/background',\\n    proc_card_file='cards/proc_card_background.dat',\\n    param_card_template_file='cards/param_card_template.dat',\\n    run_card_file='cards/run_card_background.dat',\\n    log_directory='logs/background',\\n)\\n\""
      ]
     },
     "execution_count": 10,
     "metadata": {},
     "output_type": "execute_result"
    }
   ],
   "source": [
    "\"\"\"\n",
    "miner.run(\n",
    "    is_background=True,\n",
    "    sample_benchmark='sm',\n",
    "    mg_directory=mg_dir,\n",
    "    mg_process_directory='./mg_processes/background',\n",
    "    proc_card_file='cards/proc_card_background.dat',\n",
    "    param_card_template_file='cards/param_card_template.dat',\n",
    "    run_card_file='cards/run_card_background.dat',\n",
    "    log_directory='logs/background',\n",
    ")\n",
    "\"\"\""
   ]
  },
  {
   "cell_type": "markdown",
   "metadata": {},
   "source": [
    "Finally, two options might be very useful for larger projects:\n",
    "- `MadMiner.run_multiple()` allows you to start multiple runs with different run cards or different choices of `sample_benchmark`.\n",
    "- Both `MadMiner.run()` and `MadMiner.run_multiple()` have a `only_create_script` keyword. If that is set to True, MadMiner will not start the event generation directly, but prepare folders with all the right settings and ready-to-run bash scripts. This might make it much easier to generate Events on a high-performance computing system. "
   ]
  },
  {
   "cell_type": "markdown",
   "metadata": {},
   "source": [
    "## 4. Run smearing and extract observables"
   ]
  },
  {
   "cell_type": "markdown",
   "metadata": {},
   "source": [
    "The `madminer.lhe` submodule allows us to extract observables directly from the parton-level LHE samples, including an approximate description of the detector response with smearing functions. The central object is an instance of the `LHEProcessor` class, which has to be initialized with a MadMiner file:"
   ]
  },
  {
   "cell_type": "code",
   "execution_count": 11,
   "metadata": {},
   "outputs": [
    {
     "name": "stderr",
     "output_type": "stream",
     "text": [
      "15:11 madminer.utils.inter DEBUG   HDF5 file does not contain is_reference field.\n"
     ]
    }
   ],
   "source": [
    "lhe = LHEReader('data/madminer_example.h5')"
   ]
  },
  {
   "cell_type": "markdown",
   "metadata": {},
   "source": [
    "After creating the LHEProcessor object, one can add a number of event samples (the output of running MadGraph in step 3) with the `add_sample()` function.\n",
    "\n",
    "In addition, you have to provide the information which sample was generated from which benchmark with the `sampled_from_benchmark` keyword, and set `is_background=True` for all background samples."
   ]
  },
  {
   "cell_type": "code",
   "execution_count": 12,
   "metadata": {
    "scrolled": false
   },
   "outputs": [
    {
     "name": "stderr",
     "output_type": "stream",
     "text": [
      "15:11 madminer.lhe         DEBUG   Adding event sample mg_processes/signal/Events/run_01/unweighted_events.lhe.gz\n"
     ]
    },
    {
     "data": {
      "text/plain": [
       "\"\\nlhe.add_sample(\\n    lhe_filename='mg_processes/background/Events/run_01/unweighted_events.lhe.gz',\\n    sampled_from_benchmark='sm',\\n    is_background=True,\\n    k_factor=1.0,\\n\""
      ]
     },
     "execution_count": 12,
     "metadata": {},
     "output_type": "execute_result"
    }
   ],
   "source": [
    "lhe.add_sample(\n",
    "    lhe_filename='mg_processes/signal/Events/run_01/unweighted_events.lhe.gz',\n",
    "    sampled_from_benchmark='sm',\n",
    "    is_background=False,\n",
    "    k_factor=1.1,\n",
    ")\n",
    "\n",
    "\"\"\"\n",
    "lhe.add_sample(\n",
    "    lhe_filename='mg_processes/background/Events/run_01/unweighted_events.lhe.gz',\n",
    "    sampled_from_benchmark='sm',\n",
    "    is_background=True,\n",
    "    k_factor=1.0,\n",
    "\"\"\"\n"
   ]
  },
  {
   "cell_type": "markdown",
   "metadata": {},
   "source": [
    "Now we have to define the smearing functions that are used (in lieu of a proper shower and detector simulation). Here we will assume a simple 10% uncertainty on the jet energy measurements and a $\\pm 0.1$ smearing for jet $\\eta$ and $\\phi$. The transverse momenta of the jets are then derived from the smeared energy and the on-shell condition for the quarks (this is what `pt_resolution_abs=None` does). The photons from the Higgs are assumed to be measured perfectly (otherwise we'd have to call `set_smearing` another time with `pdgis=[22]`)."
   ]
  },
  {
   "cell_type": "code",
   "execution_count": 13,
   "metadata": {},
   "outputs": [],
   "source": [
    "lhe.set_smearing(\n",
    "    pdgids=[1,2,3,4,5,6,9,22,-1,-2,-3,-4,-5,-6],   # Partons giving rise to jets\n",
    "    energy_resolution_abs=0.,\n",
    "    energy_resolution_rel=0.1,\n",
    "    pt_resolution_abs=None,\n",
    "    pt_resolution_rel=None,\n",
    "    eta_resolution_abs=0.1,\n",
    "    eta_resolution_rel=0.,\n",
    "    phi_resolution_abs=0.1,\n",
    "    phi_resolution_rel=0.,\n",
    ")"
   ]
  },
  {
   "cell_type": "markdown",
   "metadata": {},
   "source": [
    "The next step is the definition of observables, either through a Python function or an expression that can be evaluated. Here we demonstrate the latter, which is implemented in `add_observable()`. In the expression string, you can use the terms `j[i]`, `e[i]`, `mu[i]`, `a[i]`, `met`, where the indices `i` refer to a ordering by the transverse momentum. In addition, you can use `p[i]`, which denotes the `i`-th particle in the order given in the LHE sample (which is the order in which the final-state particles where defined in MadGraph).\n",
    "\n",
    "All of these represent objects inheriting from scikit-hep [LorentzVectors](http://scikit-hep.org/api/math.html#vector-classes), see the link for a documentation of their properties. In addition, they have `charge` and `pdg_id` properties.\n",
    "\n",
    "`add_observable()` has an optional keyword `required`. If `required=True`, we will only keep events where the observable can be parsed, i.e. all involved particles have been detected. If `required=False`, un-parseable observables will be filled with the value of another keyword `default`.\n",
    "\n",
    "In a realistic project, you would want to add a large number of observables that capture all information in your events. Here we will just define two observables, the transverse momentum of the leading (= higher-pT) jet, and the azimuthal angle between the two leading jets."
   ]
  },
  {
   "cell_type": "code",
   "execution_count": 14,
   "metadata": {},
   "outputs": [
    {
     "name": "stderr",
     "output_type": "stream",
     "text": [
      "15:11 madminer.lhe         DEBUG   Adding optional observable pt_j1 = j[0].pt with default 0.0\n",
      "15:11 madminer.lhe         DEBUG   Adding required observable delta_phi_jj = j[0].deltaphi(j[1]) * (-1. + 2.*float(j[0].eta > j[1].eta))\n",
      "15:11 madminer.lhe         DEBUG   Adding required observable met = met.pt\n"
     ]
    }
   ],
   "source": [
    "lhe.add_observable(\n",
    "    'pt_j1',\n",
    "    'j[0].pt',\n",
    "    required=False,\n",
    "    default=0.,\n",
    ")\n",
    "lhe.add_observable(\n",
    "    'delta_phi_jj',\n",
    "    'j[0].deltaphi(j[1]) * (-1. + 2.*float(j[0].eta > j[1].eta))',\n",
    "    required=True,\n",
    ")\n",
    "lhe.add_observable(\n",
    "    'met',\n",
    "    'met.pt',\n",
    "    required=True,\n",
    ")"
   ]
  },
  {
   "cell_type": "markdown",
   "metadata": {},
   "source": [
    "We can also add cuts, again in parse-able strings. In addition to the objects discussed above, they can contain the observables:"
   ]
  },
  {
   "cell_type": "code",
   "execution_count": 15,
   "metadata": {},
   "outputs": [
    {
     "name": "stderr",
     "output_type": "stream",
     "text": [
      "15:11 madminer.lhe         DEBUG   Adding cut (a[0] + a[1]).m > 124.\n",
      "15:11 madminer.lhe         DEBUG   Adding cut (a[0] + a[1]).m < 126.\n",
      "15:11 madminer.lhe         DEBUG   Adding cut pt_j1 > 30.\n"
     ]
    }
   ],
   "source": [
    "lhe.add_cut('(a[0] + a[1]).m > 124.')\n",
    "lhe.add_cut('(a[0] + a[1]).m < 126.')\n",
    "lhe.add_cut('pt_j1 > 30.')"
   ]
  },
  {
   "cell_type": "markdown",
   "metadata": {},
   "source": [
    "The function `analyse_samples` then calculates all observables from the LHE file(s) generated before, applies the smearing, and checks which events pass the cuts:"
   ]
  },
  {
   "cell_type": "code",
   "execution_count": 16,
   "metadata": {
    "scrolled": true
   },
   "outputs": [
    {
     "name": "stderr",
     "output_type": "stream",
     "text": [
      "15:11 madminer.lhe         INFO    Analysing LHE sample mg_processes/signal/Events/run_01/unweighted_events.lhe.gz\n",
      "15:11 madminer.lhe         DEBUG   Extracting nuisance parameter definitions from LHE file\n",
      "15:11 madminer.utils.inter DEBUG   Parsing nuisance parameter setup from LHE file at mg_processes/signal/Events/run_01/unweighted_events.lhe.gz\n",
      "15:11 madminer.lhe         DEBUG   Found 0 nuisance parameters with matching benchmarks:\n",
      "15:11 madminer.utils.inter DEBUG   Parsing LHE file mg_processes/signal/Events/run_01/unweighted_events.lhe.gz\n",
      "15:11 madminer.utils.inter DEBUG   Parsing header and events as XML with cElementTree\n",
      "15:11 madminer.utils.inter DEBUG   Found entry event_norm = sum in LHE header. Interpreting this as weight_norm_is_average = False.\n",
      "15:12 madminer.utils.inter DEBUG     51298 / 100000 events pass cut (a[0] + a[1]).m > 124.\n",
      "15:12 madminer.utils.inter DEBUG     55361 / 100000 events pass cut (a[0] + a[1]).m < 126.\n",
      "15:12 madminer.utils.inter DEBUG     98414 / 100000 events pass cut pt_j1 > 30.\n",
      "15:12 madminer.utils.inter INFO      6557 events pass all cuts\n",
      "15:12 madminer.lhe         DEBUG   Found weights ['sm', 'w', 'morphing_basis_vector_2', 'morphing_basis_vector_3', 'morphing_basis_vector_4', 'morphing_basis_vector_5'] in LHE file\n",
      "15:12 madminer.lhe         DEBUG   Found 6557 events\n"
     ]
    }
   ],
   "source": [
    "lhe.analyse_samples()"
   ]
  },
  {
   "cell_type": "markdown",
   "metadata": {},
   "source": [
    "The values of the observables and the weights are then saved in the HDF5 file. It is possible to overwrite the same file, or to leave the original file intact and save all the data into a new file as follows:"
   ]
  },
  {
   "cell_type": "code",
   "execution_count": 17,
   "metadata": {},
   "outputs": [
    {
     "name": "stderr",
     "output_type": "stream",
     "text": [
      "15:12 madminer.lhe         DEBUG   Loading HDF5 data from data/madminer_example.h5 and saving file to data/madminer_example_with_data2.h5\n",
      "15:12 madminer.lhe         DEBUG   Weight names: ['sm', 'w', 'morphing_basis_vector_2', 'morphing_basis_vector_3', 'morphing_basis_vector_4', 'morphing_basis_vector_5']\n",
      "15:12 madminer.utils.inter DEBUG   Benchmarks found in HDF5 file: ['sm', 'w', 'morphing_basis_vector_2', 'morphing_basis_vector_3', 'morphing_basis_vector_4', 'morphing_basis_vector_5']\n",
      "15:12 madminer.utils.inter DEBUG   Benchmark morphing_basis_vector_2 already in benchmark_names_phys\n",
      "15:12 madminer.utils.inter DEBUG   Benchmark morphing_basis_vector_3 already in benchmark_names_phys\n",
      "15:12 madminer.utils.inter DEBUG   Benchmark morphing_basis_vector_4 already in benchmark_names_phys\n",
      "15:12 madminer.utils.inter DEBUG   Benchmark morphing_basis_vector_5 already in benchmark_names_phys\n",
      "15:12 madminer.utils.inter DEBUG   Benchmark sm already in benchmark_names_phys\n",
      "15:12 madminer.utils.inter DEBUG   Benchmark w already in benchmark_names_phys\n",
      "15:12 madminer.utils.inter DEBUG   Combined benchmark names: ['sm', 'w', 'morphing_basis_vector_2', 'morphing_basis_vector_3', 'morphing_basis_vector_4', 'morphing_basis_vector_5']\n",
      "15:12 madminer.utils.inter DEBUG   Combined is_nuisance: [0 0 0 0 0 0]\n",
      "15:12 madminer.utils.inter DEBUG   Combined is_reference: [1 0 0 0 0 0]\n",
      "15:12 madminer.utils.inter DEBUG   Weight names found in event file: ['sm', 'w', 'morphing_basis_vector_2', 'morphing_basis_vector_3', 'morphing_basis_vector_4', 'morphing_basis_vector_5']\n",
      "15:12 madminer.utils.inter DEBUG   Benchmarks found in MadMiner file: ['sm', 'w', 'morphing_basis_vector_2', 'morphing_basis_vector_3', 'morphing_basis_vector_4', 'morphing_basis_vector_5']\n",
      "15:12 madminer.utils.inter DEBUG   Sorted benchmarks: ['sm', 'w', 'morphing_basis_vector_2', 'morphing_basis_vector_3', 'morphing_basis_vector_4', 'morphing_basis_vector_5']\n"
     ]
    }
   ],
   "source": [
    "lhe.save('data/madminer_example_with_data2.h5')"
   ]
  },
  {
   "cell_type": "markdown",
   "metadata": {},
   "source": [
    "### A look at distributions"
   ]
  },
  {
   "cell_type": "markdown",
   "metadata": {},
   "source": [
    "Let's see what our MC run produced:"
   ]
  },
  {
   "cell_type": "code",
   "execution_count": 4,
   "metadata": {},
   "outputs": [
    {
     "name": "stderr",
     "output_type": "stream",
     "text": [
      "15:21 madminer.analysis    INFO    Loading data from data/madminer_example_with_data2.h5\n",
      "15:21 madminer.analysis    INFO    Found 2 parameters\n",
      "15:21 madminer.analysis    DEBUG      CWL2 (LHA: dim6 2, maximal power in squared ME: (2,), range: (-10.0, 10.0))\n",
      "15:21 madminer.analysis    DEBUG      CPWL2 (LHA: dim6 5, maximal power in squared ME: (2,), range: (-10.0, 1.0))\n",
      "15:21 madminer.analysis    INFO    Did not find nuisance parameters\n",
      "15:21 madminer.analysis    INFO    Found 6 benchmarks, of which 6 physical\n",
      "15:21 madminer.analysis    DEBUG      sm: CWL2 = 0.00e+00, CPWL2 = 0.00e+00\n",
      "15:21 madminer.analysis    DEBUG      w: CWL2 = 10.00, CPWL2 = 0.00e+00\n",
      "15:21 madminer.analysis    DEBUG      morphing_basis_vector_2: CWL2 = -9.65e+00, CPWL2 = -4.70e-01\n",
      "15:21 madminer.analysis    DEBUG      morphing_basis_vector_3: CWL2 = -4.64e+00, CPWL2 = -3.84e+00\n",
      "15:21 madminer.analysis    DEBUG      morphing_basis_vector_4: CWL2 = 6.21, CPWL2 = -7.48e+00\n",
      "15:21 madminer.analysis    DEBUG      morphing_basis_vector_5: CWL2 = -7.38e+00, CPWL2 = -9.26e+00\n",
      "15:21 madminer.analysis    INFO    Found 3 observables\n",
      "15:21 madminer.analysis    DEBUG      0 pt_j1\n",
      "15:21 madminer.analysis    DEBUG      1 delta_phi_jj\n",
      "15:21 madminer.analysis    DEBUG      2 met\n",
      "15:21 madminer.analysis    INFO    Found 6557 events\n",
      "15:21 madminer.analysis    INFO    Found morphing setup with 6 components\n",
      "15:21 madminer.plotting    DEBUG   Observable indices: [0, 1, 2]\n",
      "15:21 madminer.plotting    DEBUG   Loaded raw data with shapes (6557, 3), (6557, 6)\n",
      "15:21 madminer.plotting    DEBUG   Calculated 2 theta matrices\n",
      "15:21 madminer.plotting    DEBUG   Plotting panel 0: observable 0, label pt_j1\n",
      "15:21 madminer.plotting    DEBUG   Ranges for observable pt_j1: min = [30.00272214753616, 30.00272214753616], max = [268.4365868483533, 643.8710663910911]\n",
      "15:21 madminer.plotting    DEBUG   Plotting panel 1: observable 1, label delta_phi_jj\n",
      "15:21 madminer.plotting    DEBUG   Ranges for observable delta_phi_jj: min = [-3.13993286774336, -3.13993286774336], max = [3.138627963883186, 3.138627963883186]\n",
      "15:21 madminer.plotting    DEBUG   Plotting panel 2: observable 2, label met\n",
      "15:21 madminer.plotting    DEBUG   Ranges for observable met: min = [0.005806845822755466, 0.005806845822755466], max = [76.87778563467432, 178.33162311405053]\n"
     ]
    },
    {
     "data": {
      "image/png": "[encoded data removed]",
      "text/plain": [
       "<Figure size 864x288 with 3 Axes>"
      ]
     },
     "metadata": {
      "needs_background": "light"
     },
     "output_type": "display_data"
    }
   ],
   "source": [
    "_ = plot_distributions(\n",
    "    filename='data/madminer_example_with_data2.h5',\n",
    "    parameter_points=['sm', np.array([10.,0.])],\n",
    "    line_labels=['SM', 'BSM'],\n",
    "    uncertainties='none',\n",
    "    n_bins=20,\n",
    "    n_cols=3,\n",
    "    normalize=True,\n",
    ")"
   ]
  },
  {
   "cell_type": "markdown",
   "metadata": {},
   "source": [
    "## 5. Combine and shuffle different event samples"
   ]
  },
  {
   "cell_type": "markdown",
   "metadata": {},
   "source": [
    "To reduce disk usage, you can generate several small event samples with the steps given above, and combine them now. Note that (for now) it is essential that all of them are generated with the same setup, including the same benchmark points / morphing basis!\n",
    "\n",
    "In our case we only have one sample, so this is not strictly necessary, but we still include it for completeness."
   ]
  },
  {
   "cell_type": "code",
   "execution_count": 5,
   "metadata": {},
   "outputs": [
    {
     "name": "stderr",
     "output_type": "stream",
     "text": [
      "15:21 madminer.sampling    DEBUG   Combining and shuffling samples\n",
      "15:21 madminer.sampling    INFO    Copying setup from data/madminer_example_with_data.h5 to data/madminer_example_shuffled.h5\n",
      "15:21 madminer.sampling    INFO    Loading samples from file 1 / 1 at data/madminer_example_with_data.h5, multiplying weights with k factor 1.0\n"
     ]
    }
   ],
   "source": [
    "combine_and_shuffle(\n",
    "    ['data/madminer_example_with_data.h5'],\n",
    "    'data/madminer_example_shuffled.h5'\n",
    ")"
   ]
  },
  {
   "cell_type": "markdown",
   "metadata": {},
   "source": [
    "## 6. Make (unweighted) training and test samples with augmented data"
   ]
  },
  {
   "cell_type": "markdown",
   "metadata": {},
   "source": [
    "At this point, we have all the information we need from MadGraph, Pythia, and Delphes. But the data is not quite ready to be used for machine learning. The `madminer.sampling` class `SampleAugmenter` will take care of the remaining book-keeping steps before we can train our estimators:\n",
    "\n",
    "First, it unweights the samples, i.e. for a given parameter vector `theta` (or a distribution `p(theta)`) it picks events `x` such that their distribution follows `p(x|theta)`. The selected samples will all come from the event file we have so far, but their frequency is changed -- some events will appear multiple times, some will disappear.\n",
    "\n",
    "Second, `SampleAugmenter` calculates all the augmented data (\"gold\") that is the key to our new inference methods. Depending on the specific technique, these are the joint likelihood ratio and / or the joint score. It saves all these pieces of information for the selected events in a set of numpy files that can easily be used in any machine learning framework."
   ]
  },
  {
   "cell_type": "code",
   "execution_count": 4,
   "metadata": {},
   "outputs": [
    {
     "name": "stderr",
     "output_type": "stream",
     "text": [
      "15:32 madminer.analysis    INFO    Loading data from data/madminer_example_shuffled.h5\n",
      "15:32 madminer.analysis    INFO    Found 2 parameters\n",
      "15:32 madminer.analysis    INFO    Did not find nuisance parameters\n",
      "15:32 madminer.analysis    INFO    Found 6 benchmarks, of which 6 physical\n",
      "15:32 madminer.analysis    INFO    Found 2 observables\n",
      "15:32 madminer.analysis    INFO    Found 6537 events\n",
      "15:32 madminer.analysis    INFO    Found morphing setup with 6 components\n"
     ]
    }
   ],
   "source": [
    "sampler = SampleAugmenter('data/madminer_example_shuffled.h5')"
   ]
  },
  {
   "cell_type": "markdown",
   "metadata": {},
   "source": [
    "The `SampleAugmenter` class defines five different high-level functions to generate train or test samples:\n",
    "- `sample_train_plain()`, which only saves observations x, for instance for histograms or ABC;\n",
    "- `sample_train_local()` for methods like SALLY and SALLINO, which will be demonstrated in the second part of the tutorial;\n",
    "- `sample_train_density()` for neural density estimation techniques like MAF or SCANDAL;\n",
    "- `sample_train_ratio()` for techniques like CARL, ROLR, CASCAL, and RASCAL, when only theta0 is parameterized;\n",
    "- `sample_train_more_ratios()` for the same techniques, but with both theta0 and theta1 parameterized;\n",
    "- `sample_test()` for the evaluation of any method.\n",
    "\n",
    "For the arguments `theta`, `theta0`, or `theta1`, you can (and should!) use the helper functions `benchmark()`, `benchmarks()`, `morphing_point()`, `morphing_points()`, and `random_morphing_points()`, all defined in the `madminer.sampling` module.\n",
    "\n",
    "Here we'll train a likelihood ratio estimator with the ALICES method, so we focus on the `extract_samples_train_ratio()` function."
   ]
  },
  {
   "cell_type": "code",
   "execution_count": 5,
   "metadata": {},
   "outputs": [
    {
     "name": "stderr",
     "output_type": "stream",
     "text": [
      "15:32 madminer.sampling    INFO    Extracting training sample for ratio-based methods. Numerator hypothesis: ('random_morphing_points', (100, [('gaussian', 0.0, 15.0), ('gaussian', 0.0, 15.0)])), denominator hypothesis: ('benchmark', 'sm')\n",
      "/Users/johannbrehmer/work/projects/madminer/madminer/madminer/analysis.py:284: RuntimeWarning: invalid value encountered in sqrt\n",
      "  xsec_uncertainties = xsec_uncertainties ** 0.5\n",
      "15:32 madminer.sampling    WARNING Large statistical uncertainty on the total cross section when sampling from theta = [4.59589697 7.76994673]: (0.000720 +/- 0.000073) pb (10.124460729467307 %). Skipping these warnings in the future...\n",
      "15:32 madminer.sampling    INFO    Effective number of samples: mean 16.457179431399243, with individual thetas ranging from 7.197251196742754 to 68.10093524160831\n",
      "15:32 madminer.sampling    INFO    Effective number of samples: mean 5230.0, with individual thetas ranging from 5230.0 to 5230.0\n"
     ]
    }
   ],
   "source": [
    "x, theta0, theta1, y, r_xz, t_xz, _ = sampler.sample_train_ratio(\n",
    "    theta0=sampling.random_morphing_points(100, [('gaussian', 0., 15.), ('gaussian', 0., 15.)]),\n",
    "    theta1=sampling.benchmark('sm'),\n",
    "    n_samples=100000,\n",
    "    folder='./data/samples',\n",
    "    filename='train'\n",
    ")"
   ]
  },
  {
   "cell_type": "markdown",
   "metadata": {},
   "source": [
    "For the evaluation we'll need a test sample:"
   ]
  },
  {
   "cell_type": "code",
   "execution_count": 6,
   "metadata": {
    "scrolled": true
   },
   "outputs": [
    {
     "name": "stderr",
     "output_type": "stream",
     "text": [
      "15:32 madminer.sampling    INFO    Extracting evaluation sample. Sampling according to ('benchmark', 'sm')\n",
      "15:32 madminer.sampling    INFO    Effective number of samples: 1306.0000000000002\n"
     ]
    }
   ],
   "source": [
    "_ = sampler.sample_test(\n",
    "    theta=sampling.benchmark('sm'),\n",
    "    n_samples=1000,\n",
    "    folder='./data/samples',\n",
    "    filename='test'\n",
    ")"
   ]
  },
  {
   "cell_type": "markdown",
   "metadata": {},
   "source": [
    "### Plot cross section over parameter space"
   ]
  },
  {
   "cell_type": "markdown",
   "metadata": {},
   "source": [
    "We can also calculate total cross sections:"
   ]
  },
  {
   "cell_type": "code",
   "execution_count": 8,
   "metadata": {},
   "outputs": [
    {
     "name": "stderr",
     "output_type": "stream",
     "text": [
      "15:32 madminer.sampling    INFO    Starting cross-section calculation\n",
      "15:32 madminer.sampling    INFO    Starting cross-section calculation\n"
     ]
    }
   ],
   "source": [
    "thetas_benchmarks, xsecs_benchmarks, xsec_errors_benchmarks = sampler.cross_sections(\n",
    "    theta=sampling.benchmarks(['sm', 'w', 'morphing_basis_vector_2', 'morphing_basis_vector_3', 'morphing_basis_vector_4', 'morphing_basis_vector_5'])\n",
    ")\n",
    "\n",
    "thetas_morphing, xsecs_morphing, xsec_errors_morphing = sampler.cross_sections(\n",
    "    theta=sampling.random_morphing_points(1000, [('gaussian', 0., 4.), ('gaussian', 0., 4.)])\n",
    ")"
   ]
  },
  {
   "cell_type": "code",
   "execution_count": 9,
   "metadata": {},
   "outputs": [
    {
     "data": {
      "image/png": "[encoded data removed]",
      "text/plain": [
       "<Figure size 360x288 with 2 Axes>"
      ]
     },
     "metadata": {
      "needs_background": "light"
     },
     "output_type": "display_data"
    }
   ],
   "source": [
    "cmin, cmax = 0., 2.5 * np.mean(xsecs_morphing)\n",
    "\n",
    "fig = plt.figure(figsize=(5,4))\n",
    "\n",
    "sc = plt.scatter(thetas_morphing[:,0], thetas_morphing[:,1], c=xsecs_morphing,\n",
    "            s=40., cmap='viridis', vmin=cmin, vmax=cmax,\n",
    "            marker='o')\n",
    "\n",
    "plt.scatter(thetas_benchmarks[:,0], thetas_benchmarks[:,1], c=xsecs_benchmarks,\n",
    "            s=200., cmap='viridis', vmin=cmin, vmax=cmax, lw=2., edgecolor='black',\n",
    "            marker='s')\n",
    "\n",
    "cb = plt.colorbar(sc)\n",
    "cb.set_label('xsec [pb]')\n",
    "\n",
    "plt.xlim(-10.,10.)\n",
    "plt.ylim(-10.,10.)\n",
    "plt.tight_layout()\n",
    "plt.show()"
   ]
  },
  {
   "cell_type": "markdown",
   "metadata": {},
   "source": [
    "What  you see here is a morphing algorithm in action. We only asked MadGraph to calculate event weights (differential cross sections, or basically squared matrix elements) at six fixed parameter points (shown here as squares with black edges). But with our knowledge about the structure of the process we can interpolate any observable to any parameter point without loss (except that statistical uncertainties might increase)!"
   ]
  },
  {
   "cell_type": "markdown",
   "metadata": {},
   "source": [
    "## 7. Train neural networks to estimate likelihood ratios"
   ]
  },
  {
   "cell_type": "markdown",
   "metadata": {},
   "source": [
    "It's now time to build the neural network that estimates the likelihood ratio. The central object for this is the `madminer.ml.ParameterizedRatioEstimator` class. It defines functions that train, save, load, and evaluate the estimators.\n",
    "\n",
    "In the initialization, the keywords `n_hidden` and `activation` define the architecture of the (fully connected) neural network:"
   ]
  },
  {
   "cell_type": "code",
   "execution_count": 10,
   "metadata": {},
   "outputs": [],
   "source": [
    "estimator = ParameterizedRatioEstimator(\n",
    "    n_hidden=(100,),\n",
    "    activation=\"tanh\"\n",
    ")"
   ]
  },
  {
   "cell_type": "markdown",
   "metadata": {},
   "source": [
    "### Training"
   ]
  },
  {
   "cell_type": "markdown",
   "metadata": {},
   "source": [
    "To train this model we will minimize the ALICES loss function described in [\"Likelihood-free inference with an improved cross-entropy estimator\"](https://arxiv.org/abs/1808.00973). Many alternatives, including RASCAL, are described in [\"Constraining Effective Field Theories With Machine Learning\"](https://arxiv.org/abs/1805.00013) and [\"A Guide to Constraining Effective Field Theories With Machine Learning\"](https://arxiv.org/abs/1805.00020). There is also SCANDAL introduced in [\"Mining gold from implicit models to improve likelihood-free inference\"](https://arxiv.org/abs/1805.12244)."
   ]
  },
  {
   "cell_type": "code",
   "execution_count": 11,
   "metadata": {},
   "outputs": [
    {
     "name": "stderr",
     "output_type": "stream",
     "text": [
      "15:32 madminer.ml          INFO    Starting training\n",
      "15:32 madminer.ml          INFO      Method:                 alices\n",
      "15:32 madminer.ml          INFO      alpha:                  1.0\n",
      "15:32 madminer.ml          INFO      Batch size:             200\n",
      "15:32 madminer.ml          INFO      Optimizer:              amsgrad\n",
      "15:32 madminer.ml          INFO      Epochs:                 20\n",
      "15:32 madminer.ml          INFO      Learning rate:          0.001 initially, decaying to 0.0001\n",
      "15:32 madminer.ml          INFO      Validation split:       0.25\n",
      "15:32 madminer.ml          INFO      Early stopping:         True\n",
      "15:32 madminer.ml          INFO      Scale inputs:           True\n",
      "15:32 madminer.ml          INFO      Shuffle labels          False\n",
      "15:32 madminer.ml          INFO      Samples:                all\n",
      "15:32 madminer.ml          INFO    Loading training data\n",
      "15:32 madminer.ml          INFO    Found 100000 samples with 2 parameters and 2 observables\n",
      "15:32 madminer.ml          INFO    Rescaling inputs\n",
      "15:32 madminer.ml          INFO    Creating model\n",
      "15:32 madminer.ml          INFO    Training model\n",
      "15:32 madminer.utils.ml.tr INFO    Epoch   1: train loss  0.54737 (improved_xe:  0.541, mse_score:  0.007)\n",
      "15:32 madminer.utils.ml.tr INFO               val. loss   0.47317 (improved_xe:  0.466, mse_score:  0.007)\n",
      "15:33 madminer.utils.ml.tr INFO    Epoch   2: train loss  0.46643 (improved_xe:  0.460, mse_score:  0.006)\n",
      "15:33 madminer.utils.ml.tr INFO               val. loss   0.46405 (improved_xe:  0.458, mse_score:  0.006)\n",
      "15:33 madminer.utils.ml.tr INFO    Epoch   3: train loss  0.45810 (improved_xe:  0.452, mse_score:  0.006)\n",
      "15:33 madminer.utils.ml.tr INFO               val. loss   0.45854 (improved_xe:  0.453, mse_score:  0.006)\n",
      "15:33 madminer.utils.ml.tr INFO    Epoch   4: train loss  0.45234 (improved_xe:  0.447, mse_score:  0.005)\n",
      "15:33 madminer.utils.ml.tr INFO               val. loss   0.45217 (improved_xe:  0.447, mse_score:  0.005)\n",
      "15:34 madminer.utils.ml.tr INFO    Epoch   5: train loss  0.44889 (improved_xe:  0.444, mse_score:  0.005)\n",
      "15:34 madminer.utils.ml.tr INFO               val. loss   0.44919 (improved_xe:  0.444, mse_score:  0.005)\n",
      "15:34 madminer.utils.ml.tr INFO    Epoch   6: train loss  0.44669 (improved_xe:  0.442, mse_score:  0.005)\n",
      "15:34 madminer.utils.ml.tr INFO               val. loss   0.44713 (improved_xe:  0.442, mse_score:  0.005)\n",
      "15:34 madminer.utils.ml.tr INFO    Epoch   7: train loss  0.44523 (improved_xe:  0.440, mse_score:  0.005)\n",
      "15:34 madminer.utils.ml.tr INFO               val. loss   0.44619 (improved_xe:  0.441, mse_score:  0.005)\n",
      "15:35 madminer.utils.ml.tr INFO    Epoch   8: train loss  0.44404 (improved_xe:  0.439, mse_score:  0.005)\n",
      "15:35 madminer.utils.ml.tr INFO               val. loss   0.44569 (improved_xe:  0.440, mse_score:  0.005)\n",
      "15:35 madminer.utils.ml.tr INFO    Epoch   9: train loss  0.44324 (improved_xe:  0.438, mse_score:  0.005)\n",
      "15:35 madminer.utils.ml.tr INFO               val. loss   0.44442 (improved_xe:  0.439, mse_score:  0.005)\n",
      "15:35 madminer.utils.ml.tr INFO    Epoch  10: train loss  0.44241 (improved_xe:  0.437, mse_score:  0.005)\n",
      "15:35 madminer.utils.ml.tr INFO               val. loss   0.44384 (improved_xe:  0.439, mse_score:  0.005)\n",
      "15:36 madminer.utils.ml.tr INFO    Epoch  11: train loss  0.44188 (improved_xe:  0.437, mse_score:  0.005)\n",
      "15:36 madminer.utils.ml.tr INFO               val. loss   0.44329 (improved_xe:  0.438, mse_score:  0.005)\n",
      "15:36 madminer.utils.ml.tr INFO    Epoch  12: train loss  0.44136 (improved_xe:  0.436, mse_score:  0.005)\n",
      "15:36 madminer.utils.ml.tr INFO               val. loss   0.44285 (improved_xe:  0.438, mse_score:  0.005)\n",
      "15:36 madminer.utils.ml.tr INFO    Epoch  13: train loss  0.44094 (improved_xe:  0.436, mse_score:  0.005)\n",
      "15:36 madminer.utils.ml.tr INFO               val. loss   0.44295 (improved_xe:  0.438, mse_score:  0.005)\n",
      "15:37 madminer.utils.ml.tr INFO    Epoch  14: train loss  0.44062 (improved_xe:  0.436, mse_score:  0.005)\n",
      "15:37 madminer.utils.ml.tr INFO               val. loss   0.44229 (improved_xe:  0.437, mse_score:  0.005)\n",
      "15:37 madminer.utils.ml.tr INFO    Epoch  15: train loss  0.44041 (improved_xe:  0.435, mse_score:  0.005)\n",
      "15:37 madminer.utils.ml.tr INFO               val. loss   0.44202 (improved_xe:  0.437, mse_score:  0.005)\n",
      "15:38 madminer.utils.ml.tr INFO    Epoch  16: train loss  0.44015 (improved_xe:  0.435, mse_score:  0.005)\n",
      "15:38 madminer.utils.ml.tr INFO               val. loss   0.44186 (improved_xe:  0.437, mse_score:  0.005)\n",
      "15:38 madminer.utils.ml.tr INFO    Epoch  17: train loss  0.43990 (improved_xe:  0.435, mse_score:  0.005)\n",
      "15:38 madminer.utils.ml.tr INFO               val. loss   0.44159 (improved_xe:  0.436, mse_score:  0.005)\n",
      "15:38 madminer.utils.ml.tr INFO    Epoch  18: train loss  0.43973 (improved_xe:  0.435, mse_score:  0.005)\n",
      "15:38 madminer.utils.ml.tr INFO               val. loss   0.44156 (improved_xe:  0.436, mse_score:  0.005)\n",
      "15:39 madminer.utils.ml.tr INFO    Epoch  19: train loss  0.43957 (improved_xe:  0.435, mse_score:  0.005)\n",
      "15:39 madminer.utils.ml.tr INFO               val. loss   0.44132 (improved_xe:  0.436, mse_score:  0.005)\n",
      "15:39 madminer.utils.ml.tr INFO    Epoch  20: train loss  0.43942 (improved_xe:  0.434, mse_score:  0.005)\n",
      "15:39 madminer.utils.ml.tr INFO               val. loss   0.44123 (improved_xe:  0.436, mse_score:  0.005)\n",
      "15:39 madminer.utils.ml.tr INFO    Early stopping did not improve performance\n"
     ]
    }
   ],
   "source": [
    "estimator.train(\n",
    "    method='alices',\n",
    "    theta='data/samples/theta0_train.npy',\n",
    "    x='data/samples/x_train.npy',\n",
    "    y='data/samples/y_train.npy',\n",
    "    r_xz='data/samples/r_xz_train.npy',\n",
    "    t_xz='data/samples/t_xz_train.npy',\n",
    "    alpha=1.,\n",
    "    n_epochs=20,\n",
    ")\n",
    "\n",
    "estimator.save('models/alices')"
   ]
  },
  {
   "cell_type": "markdown",
   "metadata": {},
   "source": [
    "### Evaluation"
   ]
  },
  {
   "cell_type": "markdown",
   "metadata": {},
   "source": [
    "`estimator.evaluate_log_likelihood_ratio(theta,x)` estimated the log likelihood ratio and the score for all combination between the given phase-space points `x` and parameters `theta`. That is, if given 100 events `x` and a grid of 25 `theta` points, it will return 25\\*100 estimates for the log likelihood ratio and 25\\*100 estimates for the score, both indexed by `[i_theta,i_x]`."
   ]
  },
  {
   "cell_type": "code",
   "execution_count": 12,
   "metadata": {},
   "outputs": [],
   "source": [
    "theta_each = np.linspace(-20.,20.,21)\n",
    "theta0, theta1 = np.meshgrid(theta_each, theta_each)\n",
    "theta_grid = np.vstack((theta0.flatten(), theta1.flatten())).T\n",
    "np.save('data/samples/theta_grid.npy', theta_grid)\n",
    "\n",
    "theta_denom = np.array([[0.,0.]])\n",
    "np.save('data/samples/theta_ref.npy', theta_denom)\n"
   ]
  },
  {
   "cell_type": "code",
   "execution_count": 13,
   "metadata": {},
   "outputs": [],
   "source": [
    "estimator.load('models/alices')\n",
    "\n",
    "log_r_hat, _ = estimator.evaluate_log_likelihood_ratio(\n",
    "    theta='data/samples/theta_grid.npy',\n",
    "    x='data/samples/x_test.npy',\n",
    "    evaluate_score=False\n",
    ")"
   ]
  },
  {
   "cell_type": "markdown",
   "metadata": {},
   "source": [
    "Let's look at the result:"
   ]
  },
  {
   "cell_type": "code",
   "execution_count": 14,
   "metadata": {},
   "outputs": [
    {
     "data": {
      "image/png": "[encoded data removed]",
      "text/plain": [
       "<Figure size 432x360 with 2 Axes>"
      ]
     },
     "metadata": {
      "needs_background": "light"
     },
     "output_type": "display_data"
    }
   ],
   "source": [
    "bin_size = theta_each[1] - theta_each[0]\n",
    "edges = np.linspace(theta_each[0] - bin_size/2, theta_each[-1] + bin_size/2, len(theta_each)+1)\n",
    "\n",
    "fig = plt.figure(figsize=(6,5))\n",
    "ax = plt.gca()\n",
    "\n",
    "expected_llr = np.mean(log_r_hat,axis=1)\n",
    "best_fit = theta_grid[np.argmin(-2.*expected_llr)]\n",
    "\n",
    "cmin, cmax = np.min(-2*expected_llr), np.max(-2*expected_llr)\n",
    "    \n",
    "pcm = ax.pcolormesh(edges, edges, -2. * expected_llr.reshape((21,21)),\n",
    "                    norm=matplotlib.colors.Normalize(vmin=cmin, vmax=cmax),\n",
    "                    cmap='viridis_r')\n",
    "cbar = fig.colorbar(pcm, ax=ax, extend='both')\n",
    "\n",
    "plt.scatter(best_fit[0], best_fit[1], s=80., color='black', marker='*')\n",
    "\n",
    "plt.xlabel(r'$\\theta_0$')\n",
    "plt.ylabel(r'$\\theta_1$')\n",
    "cbar.set_label(r'$\\mathbb{E}_x [ -2\\, \\log \\,\\hat{r}(x | \\theta, \\theta_{SM}) ]$')\n",
    "\n",
    "plt.tight_layout()\n",
    "plt.show()\n"
   ]
  },
  {
   "cell_type": "markdown",
   "metadata": {},
   "source": [
    "Note that in this tutorial our sample size was very small, and the network might not really have a chance to converge to the correct likelihood ratio function. So don't worry if you find a minimum that is not at the right point (the SM, i.e. the origin in this plot). Feel free to dial up the event numbers in the run card as well as the training samples and see what happens then!"
   ]
  },
  {
   "cell_type": "markdown",
   "metadata": {},
   "source": [
    "## 8. Limits"
   ]
  },
  {
   "cell_type": "markdown",
   "metadata": {},
   "source": [
    "In the end, what we care about are not plots of the log likelihood ratio, but limits on parameters. But at least under some asymptotic assumptions, these are directly related. MadMiner makes it easy to calculate p-values in the asymptotic limit with the `AsymptoticLimits` class in the `madminer.limits`: "
   ]
  },
  {
   "cell_type": "code",
   "execution_count": 15,
   "metadata": {},
   "outputs": [
    {
     "name": "stderr",
     "output_type": "stream",
     "text": [
      "15:39 madminer.analysis    INFO    Loading data from data/madminer_example_shuffled.h5\n",
      "15:39 madminer.analysis    INFO    Found 2 parameters\n",
      "15:39 madminer.analysis    INFO    Did not find nuisance parameters\n",
      "15:39 madminer.analysis    INFO    Found 6 benchmarks, of which 6 physical\n",
      "15:39 madminer.analysis    INFO    Found 2 observables\n",
      "15:39 madminer.analysis    INFO    Found 6537 events\n",
      "15:39 madminer.analysis    INFO    Found morphing setup with 6 components\n"
     ]
    }
   ],
   "source": [
    "limits = AsymptoticLimits('data/madminer_example_shuffled.h5')"
   ]
  },
  {
   "cell_type": "markdown",
   "metadata": {},
   "source": [
    "This class provids two high-level functions:\n",
    "- `AsymptoticLimits.observed_limits()` lets us calculate p-values on a parameter grid for some observed events, and\n",
    "- `AsymptoticLimits.expected_limits()` lets us calculate expected p-values on a parameter grid based on all data in the MadMiner file.\n",
    "\n",
    "Note that these limits include both rate and kinematic information (the neural network is used for the kinematic part).\n",
    "\n",
    "Let's try both:"
   ]
  },
  {
   "cell_type": "code",
   "execution_count": 16,
   "metadata": {},
   "outputs": [],
   "source": [
    "theta_min, theta_max = -20., 20.\n",
    "resolution = 25"
   ]
  },
  {
   "cell_type": "markdown",
   "metadata": {},
   "source": [
    "### Expected limits"
   ]
  },
  {
   "cell_type": "markdown",
   "metadata": {},
   "source": [
    "First, with `mode=\"rate\"`, we can calculate expected limits based only on rate information:"
   ]
  },
  {
   "cell_type": "code",
   "execution_count": 17,
   "metadata": {},
   "outputs": [
    {
     "ename": "TypeError",
     "evalue": "expected_limits() got an unexpected keyword argument 'resolution'",
     "output_type": "error",
     "traceback": [
      "\u001b[0;31m---------------------------------------------------------------------------\u001b[0m",
      "\u001b[0;31mTypeError\u001b[0m                                 Traceback (most recent call last)",
      "\u001b[0;32m<ipython-input-17-8157f887e720>\u001b[0m in \u001b[0;36m<module>\u001b[0;34m\u001b[0m\n\u001b[1;32m      4\u001b[0m     \u001b[0mmode\u001b[0m\u001b[0;34m=\u001b[0m\u001b[0;34m\"rate\"\u001b[0m\u001b[0;34m,\u001b[0m\u001b[0;34m\u001b[0m\u001b[0;34m\u001b[0m\u001b[0m\n\u001b[1;32m      5\u001b[0m     \u001b[0mresolution\u001b[0m\u001b[0;34m=\u001b[0m\u001b[0mresolution\u001b[0m\u001b[0;34m,\u001b[0m\u001b[0;34m\u001b[0m\u001b[0;34m\u001b[0m\u001b[0m\n\u001b[0;32m----> 6\u001b[0;31m     \u001b[0mluminosity\u001b[0m\u001b[0;34m=\u001b[0m\u001b[0;36m300000.0\u001b[0m\u001b[0;34m\u001b[0m\u001b[0;34m\u001b[0m\u001b[0m\n\u001b[0m\u001b[1;32m      7\u001b[0m )\n",
      "\u001b[0;31mTypeError\u001b[0m: expected_limits() got an unexpected keyword argument 'resolution'"
     ]
    }
   ],
   "source": [
    "_, p_values_expected_xsec, best_fit_expected_xsec = limits.expected_limits(\n",
    "    theta_true=[0.,0.],\n",
    "    theta_ranges=[(theta_min, theta_max), (theta_min, theta_max)],\n",
    "    mode=\"rate\",\n",
    "    resolution=resolution,\n",
    "    luminosity=300000.0\n",
    ")"
   ]
  },
  {
   "cell_type": "markdown",
   "metadata": {},
   "source": [
    "`mode=\"histo\"` calculates limits based on histograms. For now, there is not a lot of freedom in this step, the histogram binning is determined automatically."
   ]
  },
  {
   "cell_type": "code",
   "execution_count": null,
   "metadata": {},
   "outputs": [],
   "source": [
    "_, p_values_expected_histo, best_fit_expected_histo = limits.expected_limits(\n",
    "    theta_true=[0.,0.],\n",
    "    theta_ranges=[(theta_min, theta_max), (theta_min, theta_max)],\n",
    "    mode=\"histo\",\n",
    "    hist_vars=[\"pt_j1\"],\n",
    "    include_xsec=False,\n",
    "    resolution=resolution,\n",
    "    luminosity=300000.0\n",
    ")"
   ]
  },
  {
   "cell_type": "markdown",
   "metadata": {},
   "source": [
    "Finally and perhaps most importantly, `mode=\"ml\"` allows us to calculate limits based on any `ParamterizedRatioEstimator` instance like the ALICES estimator trained above:"
   ]
  },
  {
   "cell_type": "code",
   "execution_count": null,
   "metadata": {},
   "outputs": [],
   "source": [
    "theta_grid, p_values_expected_ml, best_fit_expected_ml = limits.expected_limits(\n",
    "    theta_true=[0.,0.],\n",
    "    theta_ranges=[(theta_min, theta_max), (theta_min, theta_max)],\n",
    "    mode=\"ml\",\n",
    "    model_file='models/alices',\n",
    "    include_xsec=False,\n",
    "    resolution=resolution,\n",
    "    luminosity=300000.0\n",
    ")"
   ]
  },
  {
   "cell_type": "markdown",
   "metadata": {},
   "source": [
    "### Observed limits"
   ]
  },
  {
   "cell_type": "markdown",
   "metadata": {},
   "source": [
    "Observed limits take as input actual data, which we here generate on the fly:"
   ]
  },
  {
   "cell_type": "code",
   "execution_count": null,
   "metadata": {},
   "outputs": [],
   "source": [
    "sampler = SampleAugmenter('data/madminer_example_shuffled.h5')\n",
    "x_observed, _ = sampler.extract_samples_test(\n",
    "    theta=sampling.morphing_point([0.,0.]),\n",
    "    n_samples=5,\n",
    "    folder=None,\n",
    "    filename=None\n",
    ")"
   ]
  },
  {
   "cell_type": "code",
   "execution_count": null,
   "metadata": {},
   "outputs": [],
   "source": [
    "_, p_values_observed, best_fit_observed = limits.observed_limits(\n",
    "    x_observed=x_observed,\n",
    "    theta_ranges=[(theta_min, theta_max), (theta_min, theta_max)],\n",
    "    mode=\"ml\",\n",
    "    model_file='models/alices',\n",
    "    include_xsec=True,\n",
    "    resolution=resolution,\n",
    "    luminosity=300000.0,\n",
    ")"
   ]
  },
  {
   "cell_type": "markdown",
   "metadata": {},
   "source": [
    "### Plot"
   ]
  },
  {
   "cell_type": "markdown",
   "metadata": {},
   "source": [
    "Let's plot the results:"
   ]
  },
  {
   "cell_type": "code",
   "execution_count": null,
   "metadata": {},
   "outputs": [],
   "source": [
    "bin_size = (theta_max - theta_min)/(resolution - 1)\n",
    "edges = np.linspace(theta_min - bin_size/2, theta_max + bin_size/2, resolution + 1)\n",
    "centers = np.linspace(theta_min, theta_max, resolution)\n",
    "\n",
    "fig = plt.figure(figsize=(6,5))\n",
    "ax = plt.gca()\n",
    "\n",
    "cmin, cmax = 1.e-3, 1.\n",
    "    \n",
    "pcm = ax.pcolormesh(\n",
    "    edges, edges, p_values_expected_ml.reshape((resolution, resolution)),\n",
    "    norm=matplotlib.colors.LogNorm(vmin=cmin, vmax=cmax),\n",
    "    cmap='Greys_r'\n",
    ")\n",
    "cbar = fig.colorbar(pcm, ax=ax, extend='both')\n",
    "\n",
    "plt.contour(\n",
    "    centers, centers, p_values_expected_xsec.reshape((resolution, resolution)),\n",
    "    levels=[0.05],\n",
    "    linestyles='-', colors='darkgreen'\n",
    ")\n",
    "plt.contour(\n",
    "    centers, centers, p_values_expected_ml.reshape((resolution, resolution)),\n",
    "    levels=[0.05],\n",
    "    linestyles='-', colors='#CC002E'\n",
    ")\n",
    "plt.contour(\n",
    "    centers, centers, p_values_expected_histo.reshape((resolution, resolution)),\n",
    "    levels=[0.05],\n",
    "    linestyles='-', colors='C1'\n",
    ")\n",
    "plt.contour(\n",
    "    centers, centers, p_values_observed.reshape((resolution, resolution)),\n",
    "    levels=[0.05],\n",
    "    linestyles='--', colors='black'\n",
    ")\n",
    "\n",
    "plt.scatter(\n",
    "    theta_grid[best_fit_expected_xsec][0], theta_grid[best_fit_expected_xsec][1],\n",
    "    s=80., color='darkgreen', marker='*',\n",
    "    label=\"xsec\"\n",
    ")\n",
    "plt.scatter(\n",
    "    theta_grid[best_fit_expected_ml][0], theta_grid[best_fit_expected_ml][1],\n",
    "    s=80., color='#CC002E', marker='*',\n",
    "    label=\"ALICES\"\n",
    ")\n",
    "plt.scatter(\n",
    "    theta_grid[best_fit_expected_histo][0], theta_grid[best_fit_expected_histo][1],\n",
    "    s=80., color='C1', marker='*',\n",
    "    label=\"Histo\"\n",
    ")\n",
    "plt.scatter(\n",
    "    theta_grid[best_fit_observed][0], theta_grid[best_fit_observed][1],\n",
    "    s=80., color='black', marker='*',\n",
    "    label=\"Observed\"\n",
    ")\n",
    "\n",
    "plt.legend()\n",
    "\n",
    "plt.xlabel(r'$\\theta_0$')\n",
    "plt.ylabel(r'$\\theta_1$')\n",
    "cbar.set_label('Expected p-value (ALICES)')\n",
    "\n",
    "plt.tight_layout()\n",
    "plt.show()\n"
   ]
  },
  {
   "cell_type": "markdown",
   "metadata": {},
   "source": [
    "That's it for now. Please have a look at the documentation for a detailed description of all classes and functions. And if you're curious about SALLY, Fisher information matrices, and ensemble methods, please look at the second part of the tutorial!"
   ]
  },
  {
   "cell_type": "code",
   "execution_count": null,
   "metadata": {},
   "outputs": [],
   "source": []
  }
 ],
 "metadata": {
  "kernelspec": {
   "display_name": "Python (higgs_inference)",
   "language": "python",
   "name": "higgs_inference"
  },
  "language_info": {
   "codemirror_mode": {
    "name": "ipython",
    "version": 3
   },
   "file_extension": ".py",
   "mimetype": "text/x-python",
   "name": "python",
   "nbconvert_exporter": "python",
   "pygments_lexer": "ipython3",
   "version": "3.6.7"
  }
 },
 "nbformat": 4,
 "nbformat_minor": 2
}
